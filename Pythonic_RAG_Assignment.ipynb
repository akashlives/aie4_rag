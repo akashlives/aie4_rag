{
  "cells": [
    {
      "cell_type": "markdown",
      "metadata": {
        "id": "lElF3o5PR6ys"
      },
      "source": [
        "# Your First RAG Application\n",
        "\n",
        "In this notebook, we'll walk you through each of the components that are involved in a simple RAG application.\n",
        "\n",
        "We won't be leveraging any fancy tools, just the OpenAI Python SDK, Numpy, and some classic Python.\n",
        "\n",
        "> NOTE: This was done with Python 3.11.4.\n",
        "\n",
        "> NOTE: There might be [compatibility issues](https://github.com/wandb/wandb/issues/7683) if you're on NVIDIA driver >552.44 As an interim solution - you can rollback your drivers to the 552.44."
      ]
    },
    {
      "cell_type": "markdown",
      "metadata": {
        "id": "5CtcL8P8R6yt"
      },
      "source": [
        "## Table of Contents:\n",
        "\n",
        "- Task 1: Imports and Utilities\n",
        "- Task 2: Documents\n",
        "- Task 3: Embeddings and Vectors\n",
        "- Task 4: Prompts\n",
        "- Task 5: Retrieval Augmented Generation\n",
        "  - 🚧 Activity #1: Augment RAG"
      ]
    },
    {
      "cell_type": "markdown",
      "metadata": {
        "id": "1Dz6GYilR6yt"
      },
      "source": [
        "Let's look at a rather complicated looking visual representation of a basic RAG application.\n",
        "\n",
        "<img src=\"https://i.imgur.com/vD8b016.png\" />"
      ]
    },
    {
      "cell_type": "markdown",
      "metadata": {
        "id": "PjmC0KFtR6yt"
      },
      "source": [
        "## Task 1: Imports and Utility\n",
        "\n",
        "We're just doing some imports and enabling `async` to work within the Jupyter environment here, nothing too crazy!"
      ]
    },
    {
      "cell_type": "code",
      "execution_count": 1,
      "metadata": {
        "colab": {
          "base_uri": "https://localhost:8080/"
        },
        "id": "H7VEzqziR6yt",
        "outputId": "f873dd3b-55a0-4e00-ecf4-e2a0fe3af327"
      },
      "outputs": [
        {
          "name": "stdout",
          "output_type": "stream",
          "text": [
            "\u001b[31mERROR: pip's dependency resolver does not currently take into account all the packages that are installed. This behaviour is the source of the following dependency conflicts.\n",
            "yfinance 0.2.18 requires appdirs>=1.4.4, which is not installed.\n",
            "yfinance 0.2.18 requires lxml>=4.9.1, which is not installed.\u001b[0m\u001b[31m\n",
            "\u001b[0m"
          ]
        }
      ],
      "source": [
        "!pip install -qU numpy matplotlib plotly pandas scipy scikit-learn openai python-dotenv"
      ]
    },
    {
      "cell_type": "code",
      "execution_count": 22,
      "metadata": {
        "id": "Z1dyrG4hR6yt"
      },
      "outputs": [],
      "source": [
        "from aimakerspace.text_utils import TextFileLoader, CharacterTextSplitter\n",
        "from aimakerspace.vectordatabase import VectorDatabase\n",
        "import asyncio"
      ]
    },
    {
      "cell_type": "code",
      "execution_count": 23,
      "metadata": {
        "id": "9OrFZRnER6yt"
      },
      "outputs": [],
      "source": [
        "import nest_asyncio\n",
        "nest_asyncio.apply()"
      ]
    },
    {
      "cell_type": "markdown",
      "metadata": {
        "id": "M0jGnpQsR6yu"
      },
      "source": [
        "## Task 2: Documents\n",
        "\n",
        "We'll be concerning ourselves with this part of the flow in the following section:\n",
        "\n",
        "<img src=\"https://i.imgur.com/jTm9gjk.png\" />"
      ]
    },
    {
      "cell_type": "markdown",
      "metadata": {
        "id": "-SFPWvRUR6yu"
      },
      "source": [
        "### Loading Source Documents\n",
        "\n",
        "So, first things first, we need some documents to work with.\n",
        "\n",
        "While we could work directly with the `.txt` files (or whatever file-types you wanted to extend this to) we can instead do some batch processing of those documents at the beginning in order to store them in a more machine compatible format.\n",
        "\n",
        "In this case, we're going to parse our text file into a single document in memory.\n",
        "\n",
        "Let's look at the relevant bits of the `TextFileLoader` class:\n",
        "\n",
        "```python\n",
        "def load_file(self):\n",
        "        with open(self.path, \"r\", encoding=self.encoding) as f:\n",
        "            self.documents.append(f.read())\n",
        "```\n",
        "\n",
        "We're simply loading the document using the built in `open` method, and storing that output in our `self.documents` list.\n"
      ]
    },
    {
      "cell_type": "code",
      "execution_count": 24,
      "metadata": {
        "colab": {
          "base_uri": "https://localhost:8080/"
        },
        "id": "Ia2sUEuGR6yu",
        "outputId": "84937ecc-c35f-4c4a-a4ab-9da72625954c"
      },
      "outputs": [
        {
          "data": {
            "text/plain": [
              "1"
            ]
          },
          "execution_count": 24,
          "metadata": {},
          "output_type": "execute_result"
        }
      ],
      "source": [
        "text_loader = TextFileLoader(\"data/PMarcaBlogs.txt\")\n",
        "documents = text_loader.load_documents()\n",
        "len(documents)"
      ]
    },
    {
      "cell_type": "code",
      "execution_count": 25,
      "metadata": {
        "colab": {
          "base_uri": "https://localhost:8080/"
        },
        "id": "bV-tj5WFR6yu",
        "outputId": "674eb315-1ff3-4597-bcf5-38ece0a812ac"
      },
      "outputs": [
        {
          "name": "stdout",
          "output_type": "stream",
          "text": [
            "\n",
            "The Pmarca Blog Archives\n",
            "(select posts from 2007-2009)\n",
            "Marc Andreessen\n",
            "copyright: Andreessen Horow\n"
          ]
        }
      ],
      "source": [
        "print(documents[0][:100])"
      ]
    },
    {
      "cell_type": "markdown",
      "metadata": {
        "id": "nHlTvCzYR6yu"
      },
      "source": [
        "### Splitting Text Into Chunks\n",
        "\n",
        "As we can see, there is one massive document.\n",
        "\n",
        "We'll want to chunk the document into smaller parts so it's easier to pass the most relevant snippets to the LLM.\n",
        "\n",
        "There is no fixed way to split/chunk documents - and you'll need to rely on some intuition as well as knowing your data *very* well in order to build the most robust system.\n",
        "\n",
        "For this toy example, we'll just split blindly on length.\n",
        "\n",
        ">There's an opportunity to clear up some terminology here, for this course we will be stick to the following:\n",
        ">\n",
        ">- \"source documents\" : The `.txt`, `.pdf`, `.html`, ..., files that make up the files and information we start with in its raw format\n",
        ">- \"document(s)\" : single (or more) text object(s)\n",
        ">- \"corpus\" : the combination of all of our documents"
      ]
    },
    {
      "cell_type": "markdown",
      "metadata": {
        "id": "2G6Voc0jR6yv"
      },
      "source": [
        "As you can imagine (though it's not specifically true in this toy example) the idea of splitting documents is to break them into managable sized chunks that retain the most relevant local context."
      ]
    },
    {
      "cell_type": "code",
      "execution_count": 26,
      "metadata": {},
      "outputs": [
        {
          "name": "stdout",
          "output_type": "stream",
          "text": [
            "\u001b[0;31mInit signature:\u001b[0m \u001b[0mCharacterTextSplitter\u001b[0m\u001b[0;34m(\u001b[0m\u001b[0mchunk_size\u001b[0m\u001b[0;34m:\u001b[0m \u001b[0mint\u001b[0m \u001b[0;34m=\u001b[0m \u001b[0;36m1000\u001b[0m\u001b[0;34m,\u001b[0m \u001b[0mchunk_overlap\u001b[0m\u001b[0;34m:\u001b[0m \u001b[0mint\u001b[0m \u001b[0;34m=\u001b[0m \u001b[0;36m200\u001b[0m\u001b[0;34m)\u001b[0m\u001b[0;34m\u001b[0m\u001b[0;34m\u001b[0m\u001b[0m\n",
            "\u001b[0;31mDocstring:\u001b[0m      <no docstring>\n",
            "\u001b[0;31mFile:\u001b[0m           ~/Documents/AIE4/aie4_rag/aimakerspace/text_utils.py\n",
            "\u001b[0;31mType:\u001b[0m           type\n",
            "\u001b[0;31mSubclasses:\u001b[0m     "
          ]
        }
      ],
      "source": [
        "?CharacterTextSplitter"
      ]
    },
    {
      "cell_type": "code",
      "execution_count": 27,
      "metadata": {
        "colab": {
          "base_uri": "https://localhost:8080/"
        },
        "id": "UMC4tsEmR6yv",
        "outputId": "08689c0b-57cd-4040-942a-8193e997f5cb"
      },
      "outputs": [
        {
          "data": {
            "text/plain": [
              "373"
            ]
          },
          "execution_count": 27,
          "metadata": {},
          "output_type": "execute_result"
        }
      ],
      "source": [
        "text_splitter = CharacterTextSplitter()\n",
        "split_documents = text_splitter.split_texts(documents)\n",
        "len(split_documents)"
      ]
    },
    {
      "cell_type": "markdown",
      "metadata": {
        "id": "W2wKT0WLR6yv"
      },
      "source": [
        "Let's take a look at some of the documents we've managed to split."
      ]
    },
    {
      "cell_type": "code",
      "execution_count": 28,
      "metadata": {
        "colab": {
          "base_uri": "https://localhost:8080/"
        },
        "id": "vcYMwWJoR6yv",
        "outputId": "20d69876-feca-4826-b4be-32915276987a"
      },
      "outputs": [
        {
          "data": {
            "text/plain": [
              "['\\ufeff\\nThe Pmarca Blog Archives\\n(select posts from 2007-2009)\\nMarc Andreessen\\ncopyright: Andreessen Horowitz\\ncover design: Jessica Hagy\\nproduced using: Pressbooks\\nContents\\nTHE PMARCA GUIDE TO STARTUPS\\nPart 1: Why not to do a startup 2\\nPart 2: When the VCs say \"no\" 10\\nPart 3: \"But I don\\'t know any VCs!\" 18\\nPart 4: The only thing that matters 25\\nPart 5: The Moby Dick theory of big companies 33\\nPart 6: How much funding is too little? Too much? 41\\nPart 7: Why a startup\\'s initial business plan doesn\\'t\\nmatter that much\\n49\\nTHE PMARCA GUIDE TO HIRING\\nPart 8: Hiring, managing, promoting, and Dring\\nexecutives\\n54\\nPart 9: How to hire a professional CEO 68\\nHow to hire the best people you\\'ve ever worked\\nwith\\n69\\nTHE PMARCA GUIDE TO BIG COMPANIES\\nPart 1: Turnaround! 82\\nPart 2: Retaining great people 86\\nTHE PMARCA GUIDE TO CAREER, PRODUCTIVITY,\\nAND SOME OTHER THINGS\\nIntroduction 97\\nPart 1: Opportunity 99\\nPart 2: Skills and education 107\\nPart 3: Where to go and why 120\\nThe Pmarca Guide to Personal Productivi']"
            ]
          },
          "execution_count": 28,
          "metadata": {},
          "output_type": "execute_result"
        }
      ],
      "source": [
        "split_documents[0:1]"
      ]
    },
    {
      "cell_type": "markdown",
      "metadata": {
        "id": "HOU-RFP_R6yv"
      },
      "source": [
        "## Task 3: Embeddings and Vectors\n",
        "\n",
        "Next, we have to convert our corpus into a \"machine readable\" format as we explored in the Embedding Primer notebook.\n",
        "\n",
        "Today, we're going to talk about the actual process of creating, and then storing, these embeddings, and how we can leverage that to intelligently add context to our queries."
      ]
    },
    {
      "cell_type": "markdown",
      "metadata": {},
      "source": [
        "### OpenAI API Key\n",
        "\n",
        "In order to access OpenAI's APIs, we'll need to provide our OpenAI API Key!\n",
        "\n",
        "You can work through the folder \"OpenAI API Key Setup\" for more information on this process if you don't already have an API Key!"
      ]
    },
    {
      "cell_type": "code",
      "execution_count": 29,
      "metadata": {},
      "outputs": [],
      "source": [
        "import os\n",
        "import openai\n",
        "from getpass import getpass\n",
        "\n",
        "#openai.api_key = getpass(\"OpenAI API Key: \")\n",
        "#os.environ[\"OPENAI_API_KEY\"] = openai.api_key"
      ]
    },
    {
      "cell_type": "markdown",
      "metadata": {},
      "source": [
        "### Vector Database\n",
        "\n",
        "Let's set up our vector database to hold all our documents and their embeddings!"
      ]
    },
    {
      "cell_type": "markdown",
      "metadata": {
        "id": "kDQrfAR1R6yv"
      },
      "source": [
        "While this is all baked into 1 call - we can look at some of the code that powers this process to get a better understanding:\n",
        "\n",
        "Let's look at our `VectorDatabase().__init__()`:\n",
        "\n",
        "```python\n",
        "def __init__(self, embedding_model: EmbeddingModel = None):\n",
        "        self.vectors = defaultdict(np.array)\n",
        "        self.embedding_model = embedding_model or EmbeddingModel()\n",
        "```\n",
        "\n",
        "As you can see - our vectors are merely stored as a dictionary of `np.array` objects.\n",
        "\n",
        "Secondly, our `VectorDatabase()` has a default `EmbeddingModel()` which is a wrapper for OpenAI's `text-embedding-3-small` model.\n",
        "\n",
        "> **Quick Info About `text-embedding-3-small`**:\n",
        "> - It has a context window of **8191** tokens\n",
        "> - It returns vectors with dimension **1536**"
      ]
    },
    {
      "cell_type": "markdown",
      "metadata": {
        "id": "L273pRdeR6yv"
      },
      "source": [
        "#### ❓Question #1:\n",
        "\n",
        "The default embedding dimension of `text-embedding-3-small` is 1536, as noted above. \n",
        "\n",
        "1. Is there any way to modify this dimension?\n",
        "2. What technique does OpenAI use to achieve this?\n",
        "\n",
        "> NOTE: Check out this [API documentation](https://platform.openai.com/docs/api-reference/embeddings/create) for the answer to question #1, and [this documentation](https://platform.openai.com/docs/guides/embeddings/use-cases) for an answer to question #2!"
      ]
    },
    {
      "cell_type": "markdown",
      "metadata": {
        "id": "w5FZY7K3R6yv"
      },
      "source": [
        "We can call the `async_get_embeddings` method of our `EmbeddingModel()` on a list of `str` and receive a list of `float` back!\n",
        "\n",
        "```python\n",
        "async def async_get_embeddings(self, list_of_text: List[str]) -> List[List[float]]:\n",
        "        return await aget_embeddings(\n",
        "            list_of_text=list_of_text, engine=self.embeddings_model_name\n",
        "        )\n",
        "```"
      ]
    },
    {
      "cell_type": "markdown",
      "metadata": {
        "id": "cSct6X0aR6yv"
      },
      "source": [
        "We cast those to `np.array` when we build our `VectorDatabase()`:\n",
        "\n",
        "```python\n",
        "async def abuild_from_list(self, list_of_text: List[str]) -> \"VectorDatabase\":\n",
        "        embeddings = await self.embedding_model.async_get_embeddings(list_of_text)\n",
        "        for text, embedding in zip(list_of_text, embeddings):\n",
        "            self.insert(text, np.array(embedding))\n",
        "        return self\n",
        "```\n",
        "\n",
        "And that's all we need to do!"
      ]
    },
    {
      "cell_type": "code",
      "execution_count": 30,
      "metadata": {
        "id": "O4KoLbVDR6yv"
      },
      "outputs": [],
      "source": [
        "vector_db = VectorDatabase()\n",
        "vector_db = asyncio.run(vector_db.abuild_from_list(split_documents))"
      ]
    },
    {
      "cell_type": "markdown",
      "metadata": {
        "id": "SSZwaGvpR6yv"
      },
      "source": [
        "#### ❓Question #2:\n",
        "\n",
        "What are the benefits of using an `async` approach to collecting our embeddings?\n",
        "\n",
        "> NOTE: Determining the core difference between `async` and `sync` will be useful! If you get stuck - ask ChatGPT!"
      ]
    },
    {
      "cell_type": "markdown",
      "metadata": {
        "id": "nRBdIt-xR6yw"
      },
      "source": [
        "So, to review what we've done so far in natural language:\n",
        "\n",
        "1. We load source documents\n",
        "2. We split those source documents into smaller chunks (documents)\n",
        "3. We send each of those documents to the `text-embedding-3-small` OpenAI API endpoint\n",
        "4. We store each of the text representations with the vector representations as keys/values in a dictionary"
      ]
    },
    {
      "cell_type": "markdown",
      "metadata": {
        "id": "4-vWANZyR6yw"
      },
      "source": [
        "### Semantic Similarity\n",
        "\n",
        "The next step is to be able to query our `VectorDatabase()` with a `str` and have it return to us vectors and text that is most relevant from our corpus.\n",
        "\n",
        "We're going to use the following process to achieve this in our toy example:\n",
        "\n",
        "1. We need to embed our query with the same `EmbeddingModel()` as we used to construct our `VectorDatabase()`\n",
        "2. We loop through every vector in our `VectorDatabase()` and use a distance measure to compare how related they are\n",
        "3. We return a list of the top `k` closest vectors, with their text representations\n",
        "\n",
        "There's some very heavy optimization that can be done at each of these steps - but let's just focus on the basic pattern in this notebook.\n",
        "\n",
        "> We are using [cosine similarity](https://www.engati.com/glossary/cosine-similarity) as a distance metric in this example - but there are many many distance metrics you could use - like [these](https://flavien-vidal.medium.com/similarity-distances-for-natural-language-processing-16f63cd5ba55)\n",
        "\n",
        "> We are using a rather inefficient way of calculating relative distance between the query vector and all other vectors - there are more advanced approaches that are much more efficient, like [ANN](https://towardsdatascience.com/comprehensive-guide-to-approximate-nearest-neighbors-algorithms-8b94f057d6b6)"
      ]
    },
    {
      "cell_type": "code",
      "execution_count": 31,
      "metadata": {
        "colab": {
          "base_uri": "https://localhost:8080/"
        },
        "id": "76d96uavR6yw",
        "outputId": "bbfccc31-20a2-41c7-c14d-46554a43ed2d"
      },
      "outputs": [
        {
          "data": {
            "text/plain": [
              "[('ordingly.\\nSeventh, when hiring the executive to run your former specialty, be\\ncareful you don’t hire someone weak on purpose.\\nThis sounds silly, but you wouldn’t believe how oaen it happens.\\nThe CEO who used to be a product manager who has a weak\\nproduct management executive. The CEO who used to be in\\nsales who has a weak sales executive. The CEO who used to be\\nin marketing who has a weak marketing executive.\\nI call this the “Michael Eisner Memorial Weak Executive Problem” — aaer the CEO of Disney who had previously been a brilliant TV network executive. When he bought ABC at Disney, it\\npromptly fell to fourth place. His response? “If I had an extra\\ntwo days a week, I could turn around ABC myself.” Well, guess\\nwhat, he didn’t have an extra two days a week.\\nA CEO — or a startup founder — oaen has a hard time letting\\ngo of the function that brought him to the party. The result: you\\nhire someone weak into the executive role for that function so\\nthat you can continue to be “the man” — cons',\n",
              "  0.6538317104772138),\n",
              " ('m. They have areas where they are truly deXcient in judgment or skill set. That’s just life. Almost nobody is brilliant\\nat everything. When hiring and when Hring executives, you\\nmust therefore focus on strength rather than lack of weakness. Everybody has severe weaknesses even if you can’t see\\nthem yet. When managing, it’s oaen useful to micromanage and\\nto provide remedial training around these weaknesses. Doing so\\nmay make the diWerence between an executive succeeding or\\nfailing.\\nFor example, you might have a brilliant engineering executive\\nwho generates excellent team loyalty, has terriXc product judgment and makes the trains run on time. This same executive\\nmay be very poor at relating to the other functions in the company. She may generate far more than her share of cross-functional conYicts, cut herself oW from critical information, and\\nsigniXcantly impede your ability to sell and market eWectively.\\nYour alternatives are:\\n(a) Macro-manage and give her an annual or quarterly object',\n",
              "  0.5035116156743895),\n",
              " ('ed?\\nIn reality — as opposed to Marc’s warped view of reality — it will\\nbe extremely helpful for Marc [if he were actually the CEO,\\nwhich he is not] to meet with the new head of engineering daily\\nwhen she comes on board and review all of her thinking and\\ndecisions. This level of micromanagement will accelerate her\\ntraining and improve her long-term eWectiveness. It will make\\nher seem smarter to the rest of the organization which will build\\ncredibility and conXdence while she comes up to speed. Micromanaging new executives is generally a good idea for a limited\\nperiod of time.\\nHowever, that is not the only time that it makes sense to micro66 The Pmarca Blog Archives\\nmanage executives. It turns out that just about every executive\\nin the world has a few things that are seriously wrong with\\nthem. They have areas where they are truly deXcient in judgment or skill set. That’s just life. Almost nobody is brilliant\\nat everything. When hiring and when Hring executives, you\\nmust therefore focus o',\n",
              "  0.4813725853707096),\n",
              " ('nYicts, cut herself oW from critical information, and\\nsigniXcantly impede your ability to sell and market eWectively.\\nYour alternatives are:\\n(a) Macro-manage and give her an annual or quarterly objective\\nto Xx it, or…\\n(b) Intensively micromanage her interactions until she learns\\nthe fundamental interpersonal skills required to be an eWective\\nexecutive.\\nI am arguing that doing (a) will likely result in weak performance. The reason is that she very likely has no idea how to be\\neWective with her peers. If somebody is an executive, it’s very\\nlikely that somewhere along the line somebody gave her feedback — perhaps abstractly — about all of her weaknesses. Yet\\nthe weakness remains. As a result, executives generally require\\nmore hands-on management than lower level employees to\\nimprove weak areas.\\nSo, micromanagement is like Xne wine. A little at the right times\\nwill really enhance things; too much all the time and you’ll end\\nup in rehab.\\nPart 8: Hiring, managing, promoting, and Dring execut',\n",
              "  0.46837549694780434),\n",
              " ('ummy\\ndecision is no fun to work for. However, it is wrong to condemn\\nthe practice of micromanagement on that basis.\\nPart 8: Hiring, managing, promoting, and Dring executives 65\\nSpeciXcally, there are times and situations where micromanaging executives is not just ok, but also the right thing to do.\\nAndy Grove has an excellent explanation of this in his classic\\nbook High Output Management, where he describes a concept\\ncalled “Task Relevant Maturity”. Andy explains that employees\\nwho are immature in a given task require detailed training and\\ninstruction. They need to be micromanaged. On the other\\nhand, if an employee is relatively mature in a task, then it is\\ncounterproductive and annoying to manage the details of their\\nwork.\\nThis is also true when managing executives. Marc might think\\nthat he hires an executive because she has the experience and\\nknow-how to comprehensively do her job, so any detailed\\ninstruction would be unwise and unwarranted. Marc would be\\nwrong about that. It turns o',\n",
              "  0.4636117325596303)]"
            ]
          },
          "execution_count": 31,
          "metadata": {},
          "output_type": "execute_result"
        }
      ],
      "source": [
        "vector_db.search_by_text(\"What is the Michael Eisner Memorial Weak Executive Problem?\", k=5)"
      ]
    },
    {
      "cell_type": "markdown",
      "metadata": {
        "id": "TehsfIiKR6yw"
      },
      "source": [
        "## Task 4: Prompts\n",
        "\n",
        "In the following section, we'll be looking at the role of prompts - and how they help us to guide our application in the right direction.\n",
        "\n",
        "In this notebook, we're going to rely on the idea of \"zero-shot in-context learning\".\n",
        "\n",
        "This is a lot of words to say: \"We will ask it to perform our desired task in the prompt, and provide no examples.\""
      ]
    },
    {
      "cell_type": "markdown",
      "metadata": {
        "id": "yXpA0UveR6yw"
      },
      "source": [
        "### XYZRolePrompt\n",
        "\n",
        "Before we do that, let's stop and think a bit about how OpenAI's chat models work.\n",
        "\n",
        "We know they have roles - as is indicated in the following API [documentation](https://platform.openai.com/docs/api-reference/chat/create#chat/create-messages)\n",
        "\n",
        "There are three roles, and they function as follows (taken directly from [OpenAI](https://platform.openai.com/docs/guides/gpt/chat-completions-api)):\n",
        "\n",
        "- `{\"role\" : \"system\"}` : The system message helps set the behavior of the assistant. For example, you can modify the personality of the assistant or provide specific instructions about how it should behave throughout the conversation. However note that the system message is optional and the model’s behavior without a system message is likely to be similar to using a generic message such as \"You are a helpful assistant.\"\n",
        "- `{\"role\" : \"user\"}` : The user messages provide requests or comments for the assistant to respond to.\n",
        "- `{\"role\" : \"assistant\"}` : Assistant messages store previous assistant responses, but can also be written by you to give examples of desired behavior.\n",
        "\n",
        "The main idea is this:\n",
        "\n",
        "1. You start with a system message that outlines how the LLM should respond, what kind of behaviours you can expect from it, and more\n",
        "2. Then, you can provide a few examples in the form of \"assistant\"/\"user\" pairs\n",
        "3. Then, you prompt the model with the true \"user\" message.\n",
        "\n",
        "In this example, we'll be forgoing the 2nd step for simplicities sake."
      ]
    },
    {
      "cell_type": "markdown",
      "metadata": {
        "id": "gdZ2KWKSR6yw"
      },
      "source": [
        "#### Utility Functions\n",
        "\n",
        "You'll notice that we're using some utility functions from the `aimakerspace` module - let's take a peek at these and see what they're doing!"
      ]
    },
    {
      "cell_type": "markdown",
      "metadata": {
        "id": "GFbeJDDsR6yw"
      },
      "source": [
        "##### XYZRolePrompt"
      ]
    },
    {
      "cell_type": "markdown",
      "metadata": {
        "id": "5mojJSE3R6yw"
      },
      "source": [
        "Here we have our `system`, `user`, and `assistant` role prompts.\n",
        "\n",
        "Let's take a peek at what they look like:\n",
        "\n",
        "```python\n",
        "class BasePrompt:\n",
        "    def __init__(self, prompt):\n",
        "        \"\"\"\n",
        "        Initializes the BasePrompt object with a prompt template.\n",
        "\n",
        "        :param prompt: A string that can contain placeholders within curly braces\n",
        "        \"\"\"\n",
        "        self.prompt = prompt\n",
        "        self._pattern = re.compile(r\"\\{([^}]+)\\}\")\n",
        "\n",
        "    def format_prompt(self, **kwargs):\n",
        "        \"\"\"\n",
        "        Formats the prompt string using the keyword arguments provided.\n",
        "\n",
        "        :param kwargs: The values to substitute into the prompt string\n",
        "        :return: The formatted prompt string\n",
        "        \"\"\"\n",
        "        matches = self._pattern.findall(self.prompt)\n",
        "        return self.prompt.format(**{match: kwargs.get(match, \"\") for match in matches})\n",
        "\n",
        "    def get_input_variables(self):\n",
        "        \"\"\"\n",
        "        Gets the list of input variable names from the prompt string.\n",
        "\n",
        "        :return: List of input variable names\n",
        "        \"\"\"\n",
        "        return self._pattern.findall(self.prompt)\n",
        "```\n",
        "\n",
        "Then we have our `RolePrompt` which laser focuses us on the role pattern found in most API endpoints for LLMs.\n",
        "\n",
        "```python\n",
        "class RolePrompt(BasePrompt):\n",
        "    def __init__(self, prompt, role: str):\n",
        "        \"\"\"\n",
        "        Initializes the RolePrompt object with a prompt template and a role.\n",
        "\n",
        "        :param prompt: A string that can contain placeholders within curly braces\n",
        "        :param role: The role for the message ('system', 'user', or 'assistant')\n",
        "        \"\"\"\n",
        "        super().__init__(prompt)\n",
        "        self.role = role\n",
        "\n",
        "    def create_message(self, **kwargs):\n",
        "        \"\"\"\n",
        "        Creates a message dictionary with a role and a formatted message.\n",
        "\n",
        "        :param kwargs: The values to substitute into the prompt string\n",
        "        :return: Dictionary containing the role and the formatted message\n",
        "        \"\"\"\n",
        "        return {\"role\": self.role, \"content\": self.format_prompt(**kwargs)}\n",
        "```\n",
        "\n",
        "We'll look at how the `SystemRolePrompt` is constructed to get a better idea of how that extension works:\n",
        "\n",
        "```python\n",
        "class SystemRolePrompt(RolePrompt):\n",
        "    def __init__(self, prompt: str):\n",
        "        super().__init__(prompt, \"system\")\n",
        "```\n",
        "\n",
        "That pattern is repeated for our `UserRolePrompt` and our `AssistantRolePrompt` as well."
      ]
    },
    {
      "cell_type": "markdown",
      "metadata": {
        "id": "D361R6sMR6yw"
      },
      "source": [
        "##### ChatOpenAI"
      ]
    },
    {
      "cell_type": "markdown",
      "metadata": {
        "id": "HJVQ2Pm8R6yw"
      },
      "source": [
        "Next we have our model, which is converted to a format analagous to libraries like LangChain and LlamaIndex.\n",
        "\n",
        "Let's take a peek at how that is constructed:\n",
        "\n",
        "```python\n",
        "class ChatOpenAI:\n",
        "    def __init__(self, model_name: str = \"gpt-4o-mini\"):\n",
        "        self.model_name = model_name\n",
        "        self.openai_api_key = os.getenv(\"OPENAI_API_KEY\")\n",
        "        if self.openai_api_key is None:\n",
        "            raise ValueError(\"OPENAI_API_KEY is not set\")\n",
        "\n",
        "    def run(self, messages, text_only: bool = True):\n",
        "        if not isinstance(messages, list):\n",
        "            raise ValueError(\"messages must be a list\")\n",
        "\n",
        "        openai.api_key = self.openai_api_key\n",
        "        response = openai.ChatCompletion.create(\n",
        "            model=self.model_name, messages=messages\n",
        "        )\n",
        "\n",
        "        if text_only:\n",
        "            return response.choices[0].message.content\n",
        "\n",
        "        return response\n",
        "```"
      ]
    },
    {
      "cell_type": "markdown",
      "metadata": {
        "id": "qCU7FfhIR6yw"
      },
      "source": [
        "#### ❓ Question #3:\n",
        "\n",
        "When calling the OpenAI API - are there any ways we can achieve more reproducible outputs?\n",
        "\n",
        "> NOTE: Check out [this section](https://platform.openai.com/docs/guides/text-generation/) of the OpenAI documentation for the answer!"
      ]
    },
    {
      "cell_type": "markdown",
      "metadata": {
        "id": "c5wcjMLCR6yw"
      },
      "source": [
        "### Creating and Prompting OpenAI's `gpt-4o-mini`!\n",
        "\n",
        "Let's tie all these together and use it to prompt `gpt-4o-mini`!"
      ]
    },
    {
      "cell_type": "code",
      "execution_count": 32,
      "metadata": {
        "id": "WIfpIot7R6yw"
      },
      "outputs": [],
      "source": [
        "from aimakerspace.openai_utils.prompts import (\n",
        "    UserRolePrompt,\n",
        "    SystemRolePrompt,\n",
        "    AssistantRolePrompt,\n",
        ")\n",
        "\n",
        "from aimakerspace.openai_utils.chatmodel import ChatOpenAI\n",
        "\n",
        "chat_openai = ChatOpenAI(model_name = \"gpt-4o\")\n",
        "user_prompt_template = \"{content}\"\n",
        "user_role_prompt = UserRolePrompt(user_prompt_template)\n",
        "system_prompt_template = (\n",
        "    \"You are an expert in {expertise}, you always answer in a kind way.\"\n",
        ")\n",
        "system_role_prompt = SystemRolePrompt(system_prompt_template)\n",
        "\n",
        "messages = [\n",
        "    system_role_prompt.create_message(expertise=\"Python\"),\n",
        "    user_role_prompt.create_message(\n",
        "        content=\"What is the best way to write a loop?\"\n",
        "    ),\n",
        "]\n",
        "\n",
        "response = chat_openai.run(messages)"
      ]
    },
    {
      "cell_type": "code",
      "execution_count": 33,
      "metadata": {
        "colab": {
          "base_uri": "https://localhost:8080/"
        },
        "id": "dHo7lssNR6yw",
        "outputId": "1d3823fa-bb6b-45f6-ddba-b41686388324"
      },
      "outputs": [
        {
          "name": "stdout",
          "output_type": "stream",
          "text": [
            "There isn't a one-size-fits-all answer to what the \"best\" way to write a loop is, as it largely depends on what you're trying to accomplish. Python provides several control structures for loops, and each has its use case. Here's a quick overview:\n",
            "\n",
            "### For Loop\n",
            "\n",
            "For loops are ideal when you need to iterate over a sequence of items, such as a list, tuple, dictionary, or string.\n",
            "\n",
            "#### Example: Iterating over a list\n",
            "```python\n",
            "fruits = ['apple', 'banana', 'cherry']\n",
            "for fruit in fruits:\n",
            "    print(fruit)\n",
            "```\n",
            "\n",
            "### While Loop\n",
            "\n",
            "While loops are useful when you need to repeat a block of code as long as a condition is true.\n",
            "\n",
            "#### Example: Counting down with a while loop\n",
            "```python\n",
            "count = 5\n",
            "while count > 0:\n",
            "    print(count)\n",
            "    count -= 1\n",
            "```\n",
            "\n",
            "### List Comprehensions\n",
            "\n",
            "List comprehensions provide a concise way to create lists. They are generally faster and considered more \"pythonic.\"\n",
            "\n",
            "#### Example: Creating a list of squares\n",
            "```python\n",
            "squares = [x*x for x in range(10)]\n",
            "print(squares)\n",
            "```\n",
            "\n",
            "### Nested Loops\n",
            "\n",
            "If you need to iterate over combinations of items, nested loops can be useful. Just be mindful of complexity as they can become hard to read.\n",
            "\n",
            "#### Example: Nested for loop\n",
            "```python\n",
            "for i in range(3):\n",
            "    for j in range(2):\n",
            "        print(f\"i: {i}, j: {j}\")\n",
            "```\n",
            "\n",
            "### General Tips\n",
            "\n",
            "1. **Readable**: Ensure your loops are easy to read. Sometimes using helper functions can make the logic clearer.\n",
            "2. **Avoid Infinite Loops**: Make sure that your while loops have a clear condition to exit.\n",
            "3. **Use Built-in Functions**: Functions like `enumerate()`, `zip()`, and `itertools` can make loops more efficient and readable.\n",
            "4. **Break and Continue**: Use `break` to exit the loop early and `continue` to skip the rest of the current loop iteration.\n",
            "\n",
            "### Example Using `enumerate()`\n",
            "```python\n",
            "fruits = ['apple', 'banana', 'cherry']\n",
            "for index, fruit in enumerate(fruits):\n",
            "    print(f\"{index}: {fruit}\")\n",
            "```\n",
            "\n",
            "Each loop type has its strengths and is suited for different tasks. Understanding what you need to do will help you choose the most appropriate loop construct. Happy coding! 😊\n"
          ]
        }
      ],
      "source": [
        "print(response)"
      ]
    },
    {
      "cell_type": "markdown",
      "metadata": {
        "id": "r2nxxhB2R6yy"
      },
      "source": [
        "## Task 5: Retrieval Augmented Generation\n",
        "\n",
        "Now we can create a RAG prompt - which will help our system behave in a way that makes sense!\n",
        "\n",
        "There is much you could do here, many tweaks and improvements to be made!"
      ]
    },
    {
      "cell_type": "code",
      "execution_count": 34,
      "metadata": {
        "id": "D1hamzGaR6yy"
      },
      "outputs": [],
      "source": [
        "RAG_PROMPT_TEMPLATE = \"\"\" \\\n",
        "Use the provided context to answer the user's query.\n",
        "\n",
        "You may not answer the user's query unless there is specific context in the following text.\n",
        "\n",
        "If you do not know the answer, or cannot answer, please respond with \"I don't know\".\n",
        "\"\"\"\n",
        "\n",
        "rag_prompt = SystemRolePrompt(RAG_PROMPT_TEMPLATE)\n",
        "\n",
        "USER_PROMPT_TEMPLATE = \"\"\" \\\n",
        "Context:\n",
        "{context}\n",
        "\n",
        "User Query:\n",
        "{user_query}\n",
        "\"\"\"\n",
        "\n",
        "\n",
        "user_prompt = UserRolePrompt(USER_PROMPT_TEMPLATE)\n",
        "\n",
        "class RetrievalAugmentedQAPipeline:\n",
        "    def __init__(self, llm: ChatOpenAI(), vector_db_retriever: VectorDatabase) -> None:\n",
        "        self.llm = llm\n",
        "        self.vector_db_retriever = vector_db_retriever\n",
        "\n",
        "    def run_pipeline(self, user_query: str) -> str:\n",
        "        \"\"\"This takes user query and runs RAG Pipeline\"\"\"\n",
        "        context_list = self.vector_db_retriever.search_by_text(user_query, k=4)\n",
        "\n",
        "        context_prompt = \"\"\n",
        "        for context in context_list:\n",
        "            context_prompt += context[0] + \"\\n\"\n",
        "\n",
        "        formatted_system_prompt = rag_prompt.create_message()\n",
        "\n",
        "        formatted_user_prompt = user_prompt.create_message(user_query=user_query, context=context_prompt)\n",
        "\n",
        "        return {\"response\" : self.llm.run([formatted_system_prompt, formatted_user_prompt]), \"context\" : context_list}"
      ]
    },
    {
      "cell_type": "markdown",
      "metadata": {
        "id": "zZIJI19uR6yz"
      },
      "source": [
        "#### ❓ Question #4:\n",
        "\n",
        "What prompting strategies could you use to make the LLM have a more thoughtful, detailed response?\n",
        "\n",
        "What is that strategy called?\n",
        "\n",
        "> NOTE: You can look through the Week 1 Day 1 \"Prompting OpenAI Like A Developer\" material for an answer to this question!"
      ]
    },
    {
      "cell_type": "code",
      "execution_count": 35,
      "metadata": {
        "id": "kqbE9fZ6R6yz"
      },
      "outputs": [],
      "source": [
        "retrieval_augmented_qa_pipeline = RetrievalAugmentedQAPipeline(\n",
        "    vector_db_retriever=vector_db,\n",
        "    llm=chat_openai\n",
        ")"
      ]
    },
    {
      "cell_type": "code",
      "execution_count": 36,
      "metadata": {
        "colab": {
          "base_uri": "https://localhost:8080/"
        },
        "id": "jAGhaCGOR6yz",
        "outputId": "e4fb3a1b-d2bc-4e18-ec31-dc0adf767163"
      },
      "outputs": [
        {
          "name": "stdout",
          "output_type": "stream",
          "text": [
            "{'context': [('ordingly.\\n'\n",
            "              'Seventh, when hiring the executive to run your former '\n",
            "              'specialty, be\\n'\n",
            "              'careful you don’t hire someone weak on purpose.\\n'\n",
            "              'This sounds silly, but you wouldn’t believe how oaen it '\n",
            "              'happens.\\n'\n",
            "              'The CEO who used to be a product manager who has a weak\\n'\n",
            "              'product management executive. The CEO who used to be in\\n'\n",
            "              'sales who has a weak sales executive. The CEO who used to be\\n'\n",
            "              'in marketing who has a weak marketing executive.\\n'\n",
            "              'I call this the “Michael Eisner Memorial Weak Executive '\n",
            "              'Problem” — aaer the CEO of Disney who had previously been a '\n",
            "              'brilliant TV network executive. When he bought ABC at Disney, '\n",
            "              'it\\n'\n",
            "              'promptly fell to fourth place. His response? “If I had an '\n",
            "              'extra\\n'\n",
            "              'two days a week, I could turn around ABC myself.” Well, guess\\n'\n",
            "              'what, he didn’t have an extra two days a week.\\n'\n",
            "              'A CEO — or a startup founder — oaen has a hard time letting\\n'\n",
            "              'go of the function that brought him to the party. The result: '\n",
            "              'you\\n'\n",
            "              'hire someone weak into the executive role for that function so\\n'\n",
            "              'that you can continue to be “the man” — cons',\n",
            "              0.6581809295589608),\n",
            "             ('m. They have areas where they are truly deXcient in judgment or '\n",
            "              'skill set. That’s just life. Almost nobody is brilliant\\n'\n",
            "              'at everything. When hiring and when Hring executives, you\\n'\n",
            "              'must therefore focus on strength rather than lack of weakness. '\n",
            "              'Everybody has severe weaknesses even if you can’t see\\n'\n",
            "              'them yet. When managing, it’s oaen useful to micromanage and\\n'\n",
            "              'to provide remedial training around these weaknesses. Doing so\\n'\n",
            "              'may make the diWerence between an executive succeeding or\\n'\n",
            "              'failing.\\n'\n",
            "              'For example, you might have a brilliant engineering executive\\n'\n",
            "              'who generates excellent team loyalty, has terriXc product '\n",
            "              'judgment and makes the trains run on time. This same executive\\n'\n",
            "              'may be very poor at relating to the other functions in the '\n",
            "              'company. She may generate far more than her share of '\n",
            "              'cross-functional conYicts, cut herself oW from critical '\n",
            "              'information, and\\n'\n",
            "              'signiXcantly impede your ability to sell and market '\n",
            "              'eWectively.\\n'\n",
            "              'Your alternatives are:\\n'\n",
            "              '(a) Macro-manage and give her an annual or quarterly object',\n",
            "              0.5088024333618568),\n",
            "             ('ed?\\n'\n",
            "              'In reality — as opposed to Marc’s warped view of reality — it '\n",
            "              'will\\n'\n",
            "              'be extremely helpful for Marc [if he were actually the CEO,\\n'\n",
            "              'which he is not] to meet with the new head of engineering '\n",
            "              'daily\\n'\n",
            "              'when she comes on board and review all of her thinking and\\n'\n",
            "              'decisions. This level of micromanagement will accelerate her\\n'\n",
            "              'training and improve her long-term eWectiveness. It will make\\n'\n",
            "              'her seem smarter to the rest of the organization which will '\n",
            "              'build\\n'\n",
            "              'credibility and conXdence while she comes up to speed. '\n",
            "              'Micromanaging new executives is generally a good idea for a '\n",
            "              'limited\\n'\n",
            "              'period of time.\\n'\n",
            "              'However, that is not the only time that it makes sense to '\n",
            "              'micro66 The Pmarca Blog Archives\\n'\n",
            "              'manage executives. It turns out that just about every '\n",
            "              'executive\\n'\n",
            "              'in the world has a few things that are seriously wrong with\\n'\n",
            "              'them. They have areas where they are truly deXcient in judgment '\n",
            "              'or skill set. That’s just life. Almost nobody is brilliant\\n'\n",
            "              'at everything. When hiring and when Hring executives, you\\n'\n",
            "              'must therefore focus o',\n",
            "              0.47900094745923383),\n",
            "             ('nYicts, cut herself oW from critical information, and\\n'\n",
            "              'signiXcantly impede your ability to sell and market '\n",
            "              'eWectively.\\n'\n",
            "              'Your alternatives are:\\n'\n",
            "              '(a) Macro-manage and give her an annual or quarterly objective\\n'\n",
            "              'to Xx it, or…\\n'\n",
            "              '(b) Intensively micromanage her interactions until she learns\\n'\n",
            "              'the fundamental interpersonal skills required to be an '\n",
            "              'eWective\\n'\n",
            "              'executive.\\n'\n",
            "              'I am arguing that doing (a) will likely result in weak '\n",
            "              'performance. The reason is that she very likely has no idea how '\n",
            "              'to be\\n'\n",
            "              'eWective with her peers. If somebody is an executive, it’s '\n",
            "              'very\\n'\n",
            "              'likely that somewhere along the line somebody gave her feedback '\n",
            "              '— perhaps abstractly — about all of her weaknesses. Yet\\n'\n",
            "              'the weakness remains. As a result, executives generally '\n",
            "              'require\\n'\n",
            "              'more hands-on management than lower level employees to\\n'\n",
            "              'improve weak areas.\\n'\n",
            "              'So, micromanagement is like Xne wine. A little at the right '\n",
            "              'times\\n'\n",
            "              'will really enhance things; too much all the time and you’ll '\n",
            "              'end\\n'\n",
            "              'up in rehab.\\n'\n",
            "              'Part 8: Hiring, managing, promoting, and Dring execut',\n",
            "              0.46808123327748286)],\n",
            " 'response': 'The \"Michael Eisner Memorial Weak Executive Problem\" refers to a '\n",
            "             'scenario where a CEO, especially one who has expertise in a '\n",
            "             'particular area, hires a weak executive to handle that same '\n",
            "             'area. This often occurs because the CEO has a hard time '\n",
            "             'relinquishing control over the function that contributed '\n",
            "             'significantly to their own success. The term is named after '\n",
            "             'Michael Eisner, the CEO of Disney and a former TV network '\n",
            "             'executive, who failed to effectively manage ABC after acquiring '\n",
            "             'it, claiming he could turn it around if he had more time, which '\n",
            "             \"he didn't. This example illustrates the broader issue of CEOs \"\n",
            "             'hiring underperforming executives in their areas of expertise to '\n",
            "             'maintain their sense of control and involvement.'}\n"
          ]
        }
      ],
      "source": [
        "import pprint\n",
        "pprint.pprint(retrieval_augmented_qa_pipeline.run_pipeline(\"What is the 'Michael Eisner Memorial Weak Executive Problem'?\"))"
      ]
    },
    {
      "cell_type": "markdown",
      "metadata": {},
      "source": [
        "### 🏗️ Activity #1:\n",
        "\n",
        "Enhance your RAG application in some way! \n",
        "\n",
        "Suggestions are: \n",
        "\n",
        "- Allow it to work with PDF files\n",
        "- Implement a new distance metric\n",
        "- Add metadata support to the vector database\n",
        "\n",
        "While these are suggestions, you should feel free to make whatever augmentations you desire! \n",
        "\n",
        "> NOTE: These additions might require you to work within the `aimakerspace` library - that's expected!"
      ]
    },
    {
      "cell_type": "code",
      "execution_count": 13,
      "metadata": {},
      "outputs": [],
      "source": [
        "from aimakerspace.text_utils import TextFileLoader, CharacterTextSplitter\n",
        "from aimakerspace.vectordatabase import VectorDatabase\n",
        "import asyncio\n",
        "import nest_asyncio\n",
        "\n",
        "nest_asyncio.apply()\n",
        "\n",
        "from aimakerspace.openai_utils.prompts import (\n",
        "    UserRolePrompt,\n",
        "    SystemRolePrompt,\n",
        "    AssistantRolePrompt,\n",
        ")\n",
        "\n",
        "from aimakerspace.openai_utils.chatmodel import ChatOpenAI\n",
        "from aimakerspace.openai_utils.embedding import EmbeddingModel\n",
        "from aimakerspace.semantic_chunking import SemanticChunking\n",
        "import pprint\n",
        "\n",
        "chat_openai = ChatOpenAI(model_name=\"gpt-4o\")\n",
        "from aimakerspace.pdfloader import PDFLoader\n",
        "\n"
      ]
    },
    {
      "cell_type": "markdown",
      "metadata": {},
      "source": [
        "1. Implemented pdf.loader `aimakerspace/pdfloader.py`\n",
        "2. Extended the `aimakerspace/openai_utils/embedding.py` to include `embed_documents` \n",
        "3. Implement `SemanticChunking` which is implemented `aimakerspace/semantic_chunking.py`"
      ]
    },
    {
      "cell_type": "code",
      "execution_count": 3,
      "metadata": {},
      "outputs": [],
      "source": [
        "# Read ReAct paper\n",
        "pdf_loader = PDFLoader(\"data/react_paper.pdf\")"
      ]
    },
    {
      "cell_type": "code",
      "execution_count": 4,
      "metadata": {},
      "outputs": [],
      "source": [
        "# This loads the file and splits it into pages\n",
        "pages = pdf_loader.load_and_split()"
      ]
    },
    {
      "cell_type": "code",
      "execution_count": 5,
      "metadata": {},
      "outputs": [],
      "source": [
        "# All differences between sentences are calculated, and then any difference greater than the X percentile is split.\n",
        "# Any difference greater than X standard deviations is split.\n",
        "# The interquartile distance is used to split chunks.\n",
        "\n",
        "embedding_model = EmbeddingModel()\n",
        "chunker = SemanticChunking(embedding_model, breakpoint_threshold_type=\"percentile\")"
      ]
    },
    {
      "cell_type": "code",
      "execution_count": 18,
      "metadata": {},
      "outputs": [],
      "source": [
        "split_pages = []\n",
        "for doc in pages:\n",
        "    split_pages += chunker.split_text(doc.page_content)"
      ]
    },
    {
      "cell_type": "code",
      "execution_count": 19,
      "metadata": {},
      "outputs": [],
      "source": [
        "split_documents = [i.page_content for i in split_pages]"
      ]
    },
    {
      "cell_type": "code",
      "execution_count": 20,
      "metadata": {},
      "outputs": [],
      "source": [
        "vector_db = VectorDatabase()\n",
        "vector_db = asyncio.run(vector_db.abuild_from_list(split_documents))"
      ]
    },
    {
      "cell_type": "code",
      "execution_count": 21,
      "metadata": {},
      "outputs": [],
      "source": [
        "RAG_PROMPT_TEMPLATE = \"\"\" \\\n",
        "Use the provided context to answer the user's query.\n",
        "\n",
        "You may not answer the user's query unless there is specific context in the following text.\n",
        "\n",
        "If you do not know the answer, or cannot answer, please respond with \"I don't know\".\n",
        "\"\"\"\n",
        "\n",
        "rag_prompt = SystemRolePrompt(RAG_PROMPT_TEMPLATE)\n",
        "\n",
        "USER_PROMPT_TEMPLATE = \"\"\" \\\n",
        "Context:\n",
        "{context}\n",
        "\n",
        "User Query:\n",
        "{user_query}\n",
        "\"\"\"\n",
        "\n",
        "\n",
        "user_prompt = UserRolePrompt(USER_PROMPT_TEMPLATE)\n",
        "\n",
        "\n",
        "class RetrievalAugmentedQAPipeline:\n",
        "    def __init__(self, llm: ChatOpenAI(), vector_db_retriever: VectorDatabase) -> None:\n",
        "        self.llm = llm\n",
        "        self.vector_db_retriever = vector_db_retriever\n",
        "\n",
        "    def run_pipeline(self, user_query: str) -> str:\n",
        "        \"\"\"This takes user query and runs RAG Pipeline\"\"\"\n",
        "        context_list = self.vector_db_retriever.search_by_text(user_query, k=4)\n",
        "\n",
        "        context_prompt = \"\"\n",
        "        for context in context_list:\n",
        "            context_prompt += context[0] + \"\\n\"\n",
        "\n",
        "        formatted_system_prompt = rag_prompt.create_message()\n",
        "\n",
        "        formatted_user_prompt = user_prompt.create_message(\n",
        "            user_query=user_query, context=context_prompt\n",
        "        )\n",
        "\n",
        "        return {\n",
        "            \"response\": self.llm.run([formatted_system_prompt, formatted_user_prompt]),\n",
        "            \"context\": context_list,\n",
        "        }\n",
        "\n",
        "    def answer_questions(self, user_query: str) -> str:\n",
        "        \"\"\"Answer only the questions\"\"\"\n",
        "        context_list = self.vector_db_retriever.search_by_text(user_query, k=4)\n",
        "\n",
        "        context_prompt = \"\"\n",
        "        for context in context_list:\n",
        "            context_prompt += context[0] + \"\\n\"\n",
        "\n",
        "        formatted_system_prompt = rag_prompt.create_message()\n",
        "\n",
        "        formatted_user_prompt = user_prompt.create_message(\n",
        "            user_query=user_query, context=context_prompt\n",
        "        )\n",
        "\n",
        "        return self.llm.run([formatted_system_prompt, formatted_user_prompt])"
      ]
    },
    {
      "cell_type": "code",
      "execution_count": 22,
      "metadata": {},
      "outputs": [],
      "source": [
        "retrieval_augmented_qa_pipeline = RetrievalAugmentedQAPipeline(\n",
        "    vector_db_retriever=vector_db, llm=chat_openai\n",
        ")"
      ]
    },
    {
      "cell_type": "code",
      "execution_count": 23,
      "metadata": {},
      "outputs": [
        {
          "name": "stdout",
          "output_type": "stream",
          "text": [
            "('ReAct is a method that combines reasoning and acting using a large language '\n",
            " 'model (LLM) applied to interactive environments within a closed-loop system. '\n",
            " 'It significantly outperforms the Act method by effectively decomposing goals '\n",
            " 'into smaller subgoals and maintaining an awareness of the current state of '\n",
            " 'the environment. In comparative trials, ReAct has consistently shown '\n",
            " 'superior performance across various tasks such as ALFWorld and Webshop by '\n",
            " 'leveraging reasoning to guide its actions and bridge gaps between '\n",
            " 'observations and required actions.')\n"
          ]
        }
      ],
      "source": [
        "pprint.pprint(\n",
        "    retrieval_augmented_qa_pipeline.answer_questions(\n",
        "        \"What is ReAcT?\"\n",
        "    )\n",
        ")"
      ]
    },
    {
      "cell_type": "code",
      "execution_count": 26,
      "metadata": {},
      "outputs": [
        {
          "name": "stdout",
          "output_type": "stream",
          "text": [
            "('Reasoning and Action in the context of language models refer to two '\n",
            " 'integrated processes that aid in task-solving:\\n'\n",
            " '\\n'\n",
            " '1. **Reasoning**: This involves generating verbal reasoning traces, which '\n",
            " 'help the model track progress, make adjustments based on current situations, '\n",
            " 'handle exceptions, and determine when additional information is needed. It '\n",
            " 'helps the model create, maintain, and adjust high-level plans.\\n'\n",
            " '\\n'\n",
            " '2. **Action**: This refers to taking specific task-oriented actions, which '\n",
            " 'might include interacting with external environments or knowledge bases to '\n",
            " 'gather additional information or execute physical tasks. \\n'\n",
            " '\\n'\n",
            " 'Combining reasoning and action allows the model to interleave these '\n",
            " 'processes dynamically, thereby enhancing its ability to solve tasks by using '\n",
            " 'internal knowledge and incorporating new information from external sources. '\n",
            " 'This synergy improves task execution, model interpretability, and '\n",
            " 'trustworthiness.')\n"
          ]
        }
      ],
      "source": [
        "pprint.pprint(\n",
        "    retrieval_augmented_qa_pipeline.answer_questions(\n",
        "        \"What is Reasoning and Action mean?\"\n",
        "    ))"
      ]
    },
    {
      "cell_type": "code",
      "execution_count": 24,
      "metadata": {},
      "outputs": [
        {
          "name": "stdout",
          "output_type": "stream",
          "text": [
            "{'context': [('Published as a conference paper at ICLR 2023\\n'\n",
            "              'appear sparsely in the most relevant positions of a trajectory, '\n",
            "              'so we let the language model decide the\\n'\n",
            "              'asynchronous occurrence of thoughts and actions for itself. '\n",
            "              'Since decision making and reasoning capabilities are integrated '\n",
            "              'into a large language model, ReAct\\n'\n",
            "              'enjoys several unique features: A) Intuitive and easy to design '\n",
            "              ': Designing ReAct prompts is\\n'\n",
            "              'straightforward as human annotators just type down their '\n",
            "              'thoughts in language on top of their actions\\n'\n",
            "              'taken. No ad-hoc format choice, thought design, or example '\n",
            "              'selection is used in this paper. We detail\\n'\n",
            "              'prompt design for each task in Sections 3 and 4. B) General and '\n",
            "              'ﬂexible : Due to the ﬂexible thought\\n'\n",
            "              'space and thought-action occurrence format, ReAct works for '\n",
            "              'diverse tasks with distinct action\\n'\n",
            "              'spaces and reasoning needs, including but not limited to QA, '\n",
            "              'fact veriﬁcation, text game, and web\\n'\n",
            "              'navigation. C) Performant and robust :ReAct shows strong '\n",
            "              'generalization to new task instances\\n'\n",
            "              'while learning solely from one to six in-context examples, '\n",
            "              'consistently outperforming baselines with\\n'\n",
            "              'only reasoning or acting across different domains. We also show '\n",
            "              'in Section 3 additional beneﬁts\\n'\n",
            "              'when ﬁnetuning is enabled, and in Section 4 how ReAct '\n",
            "              'performance is robust to prompt selections. D) Human aligned '\n",
            "              'and controllable :ReAct promises an interpretable sequential '\n",
            "              'decision making\\n'\n",
            "              'and reasoning process where humans can easily inspect reasoning '\n",
            "              'and factual correctness. Moreover,\\n'\n",
            "              'humans can also control or correct the agent behavior on the go '\n",
            "              'by thought editing, as shown in\\n'\n",
            "              'Figure 5 in Section 4. 3 K NOWLEDGE -INTENSIVE REASONING TASKS\\n'\n",
            "              'We begin with knowledge-intensive reasoning tasks like '\n",
            "              'multi-hop question answering and fact\\n'\n",
            "              'veriﬁcation. As shown in Figure 1(1d), by interacting with a '\n",
            "              'Wikipedia API, ReAct is able to\\n'\n",
            "              'retrieve information to support reasoning, while also use '\n",
            "              'reasoning to target what to retrieve next,\\n'\n",
            "              'demonstrating a synergy of reasoning and acting. 3.1 S ETUP\\n'\n",
            "              'Domains We consider two datasets challenging knowledge '\n",
            "              'retrieval and reasoning: (1) Hot-\\n'\n",
            "              'PotQA (Yang et al., 2018), a multi-hop question answering '\n",
            "              'benchmark that requires reasoning\\n'\n",
            "              'over two or more Wikipedia passages, and (2) FEVER (Thorne et '\n",
            "              'al., 2018), a fact veriﬁcation\\n'\n",
            "              'benchmark where each claim is annotated SUPPORTS, REFUTES, or '\n",
            "              'NOT ENOUGH INFO, based\\n'\n",
            "              'on if there exists a Wikipedia passage to verify the claim. In '\n",
            "              'this work, we operate in a question-only\\n'\n",
            "              'setup for both tasks, where models only receive the '\n",
            "              'question/claim as input without access to support\\n'\n",
            "              'paragraphs, and have to rely on their internal knowledge or '\n",
            "              'retrieve knowledge via interacting with\\n'\n",
            "              'an external environment to support reasoning. Action Space We '\n",
            "              'design a simple Wikipedia web API with three types of actions '\n",
            "              'to support\\n'\n",
            "              'interactive information retrieval: (1) search [entity ], which '\n",
            "              'returns the ﬁrst 5 sentences from\\n'\n",
            "              'the corresponding entity wiki page if it exists, or else '\n",
            "              'suggests top-5 similar entities from the\\n'\n",
            "              'Wikipedia search engine, (2) lookup [string ], which would '\n",
            "              'return the next sentence in the page\\n'\n",
            "              'containing string , simulating Ctrl+F functionality on the '\n",
            "              'browser. (3) finish [answer ], which\\n'\n",
            "              'would ﬁnish the current task with answer . We note that this '\n",
            "              'action space mostly can only retrieve a\\n'\n",
            "              'small part of a passage based on exact passage name, which is '\n",
            "              'signiﬁcantly weaker than state-of-the-\\n'\n",
            "              'art lexical or neural retrievers. The purpose is to simulate '\n",
            "              'how humans would interact with Wikipedia,\\n'\n",
            "              'and force models to retrieve via explicit reasoning in '\n",
            "              'language. 3.2 M ETHODS\\n'\n",
            "              'ReAct Prompting For HotpotQA and Fever, we randomly select 6 '\n",
            "              'and 3 cases2from the training\\n'\n",
            "              'set and manually compose ReAct -format trajectories to use as '\n",
            "              'few-shot exemplars in the prompts. Similar to Figure 1(d), each '\n",
            "              'trajectory consists of multiple thought-action-observation '\n",
            "              'steps (i.e.',\n",
            "              0.3989755134651776),\n",
            "             ('We also explore human-in-the-loop interaction with ReAct , to '\n",
            "              'allow a human to inspect and edit\\n'\n",
            "              'ReAct ’s reasoning traces. Figure 5 shows that by simply '\n",
            "              'removing a hallucinating sentence in Act\\n'\n",
            "              '17 and adding some hints in Act 23, ReAct can be made to change '\n",
            "              'its behavior drastically to align\\n'\n",
            "              'with these human thought edits and succeed in the task. From a '\n",
            "              'human perspective, solving such a\\n'\n",
            "              'task becomes signiﬁcantly easier, from typing tens of actions '\n",
            "              'to only editing a couple of thoughts,\\n'\n",
            "              'which enables new forms of human-machine collaboration.',\n",
            "              0.38429953318663046),\n",
            "             ('2107048. Any opinions, ﬁndings, and conclusions or '\n",
            "              'recommendations expressed in this material are\\n'\n",
            "              'those of the author(s) and do not necessarily reﬂect the views '\n",
            "              'of the National Science Foundation. REPRODUCIBILITY STATEMENT\\n'\n",
            "              'Our main experiments are done on PaLM (Chowdhery et al., 2022), '\n",
            "              'which is not an openly accessible\\n'\n",
            "              'model yet. To increase reproducibility, we have included all '\n",
            "              'used prompts in Appendix C, additional\\n'\n",
            "              'experiments using GPT-3 (Brown et al., 2020) in Appendix A.1, '\n",
            "              'and associated GPT-3 ReAct\\n'\n",
            "              'prompting code at https://anonymous.4open.science/r/ReAct-2268/ '\n",
            "              '. ETHICS STATEMENT\\n'\n",
            "              'ReAct prompts large language models to generate more human '\n",
            "              'interpretable, diagnosable, and\\n'\n",
            "              'controllable task-solving trajectories than previous methods. '\n",
            "              'However, hooking up a large language\\n'\n",
            "              'model with an action space to interact with external '\n",
            "              'environments (e.g. the web, physical environ-\\n'\n",
            "              'ments) has potential dangers, e.g. looking up inappropriate or '\n",
            "              'private information, or taking harmful\\n'\n",
            "              'actions in an environment. Our experiments minimize such risks '\n",
            "              'by limiting the interactions to\\n'\n",
            "              'speciﬁc websites (Wikipedia or WebShop) that are free of '\n",
            "              'private information, without any dangerous\\n'\n",
            "              'actions in the action space design (i.e. models cannot really '\n",
            "              'buy products on WebShop the research\\n'\n",
            "              'benchmark, or edit Wikipedia). We believe researchers should be '\n",
            "              'aware of such risks before designing\\n'\n",
            "              'more extensive experiments in the future. REFERENCES\\n'\n",
            "              'Josh Abramson, Arun Ahuja, Iain Barr, Arthur Brussee, Federico '\n",
            "              'Carnevale, Mary Cassin, Rachita\\n'\n",
            "              'Chhaparia, Stephen Clark, Bogdan Damoc, Andrew Dudzik, Petko '\n",
            "              'Georgiev, Aurelia Guy, Tim\\n'\n",
            "              'Harley, Felix Hill, Alden Hung, Zachary Kenton, Jessica Landon, '\n",
            "              'Timothy Lillicrap, Kory Mathew-\\n'\n",
            "              'son, So ˇna Mokrá, Alistair Muldal, Adam Santoro, Nikolay '\n",
            "              'Savinov, Vikrant Varma, Greg Wayne,\\n'\n",
            "              'Duncan Williams, Nathaniel Wong, Chen Yan, and Rui Zhu. '\n",
            "              'Imitating interactive intelligence,\\n'\n",
            "              '2020. URL https://arxiv.org/abs/2012.05672 . Michael Ahn, '\n",
            "              'Anthony Brohan, Noah Brown, Yevgen Chebotar, Omar Cortes, Byron '\n",
            "              'David, Chelsea\\n'\n",
            "              'Finn, Chuyuan Fu, Keerthana Gopalakrishnan, Karol Hausman, Alex '\n",
            "              'Herzog, Daniel Ho, Jasmine\\n'\n",
            "              'Hsu, Julian Ibarz, Brian Ichter, Alex Irpan, Eric Jang, Rosario '\n",
            "              'Jauregui Ruano, Kyle Jeffrey, Sally\\n'\n",
            "              'Jesmonth, Nikhil J Joshi, Ryan Julian, Dmitry Kalashnikov, '\n",
            "              'Yuheng Kuang, Kuang-Huei Lee,\\n'\n",
            "              'Sergey Levine, Yao Lu, Linda Luu, Carolina Parada, Peter '\n",
            "              'Pastor, Jornell Quiambao, Kanishka\\n'\n",
            "              'Rao, Jarek Rettinghouse, Diego Reyes, Pierre Sermanet, Nicolas '\n",
            "              'Sievers, Clayton Tan, Alexander\\n'\n",
            "              'Toshev, Vincent Vanhoucke, Fei Xia, Ted Xiao, Peng Xu, Sichun '\n",
            "              'Xu, Mengyuan Yan, and\\n'\n",
            "              'Andy Zeng. Do as i can, not as i say: Grounding language in '\n",
            "              'robotic affordances, 2022. URL\\n'\n",
            "              'https://arxiv.org/abs/2204.01691 .',\n",
            "              0.3832386629384768),\n",
            "             ('More details about ReAct-IM is in\\n'\n",
            "              'Appendix B.2. An example prompt for ReAct-IM can be found in '\n",
            "              'Appendix C.4, and an example\\n'\n",
            "              'trajectory in Appendix D.2.3. 8',\n",
            "              0.37423053863829814)],\n",
            " 'response': 'The ReAct paper, presented at ICLR 2023, focuses on integrating '\n",
            "             'decision-making and reasoning capabilities directly into large '\n",
            "             'language models to facilitate task-solving. The key features of '\n",
            "             'ReAct are:\\n'\n",
            "             '\\n'\n",
            "             'A) **Intuitive and Easy to Design**: ReAct prompts are designed '\n",
            "             'straightforwardly as human annotators type their thoughts '\n",
            "             'alongside their actions without needing a specific format or '\n",
            "             'example selection.\\n'\n",
            "             '\\n'\n",
            "             'B) **General and Flexible**: The model can handle diverse tasks '\n",
            "             'that require distinct action spaces and reasoning, such as '\n",
            "             'question answering (QA), fact verification, text games, and web '\n",
            "             'navigation.\\n'\n",
            "             '\\n'\n",
            "             'C) **Performant and Robust**: ReAct demonstrates strong '\n",
            "             'generalization to new task instances with minimal in-context '\n",
            "             'examples, outperforming other models that only focus on '\n",
            "             'reasoning or acting.\\n'\n",
            "             '\\n'\n",
            "             'D) **Human-Aligned and Controllable**: The sequential '\n",
            "             'decision-making and reasoning process ReAct uses is '\n",
            "             'interpretable, allowing human users to inspect and correct '\n",
            "             'reasoning and actions easily.\\n'\n",
            "             '\\n'\n",
            "             'The paper delves into knowledge-intensive reasoning tasks, '\n",
            "             'including multi-hop question answering and fact verification, '\n",
            "             'utilizing a designed Wikipedia API for interactive information '\n",
            "             'retrieval. The combination of reasoning and acting allows the '\n",
            "             'model to identify and retrieve necessary information '\n",
            "             'effectively.\\n'\n",
            "             '\\n'\n",
            "             'Moreover, the paper discusses human-in-the-loop interaction, '\n",
            "             \"where humans can edit the model's reasoning traces to guide it \"\n",
            "             'towards the correct output, enhancing human-machine '\n",
            "             \"collaboration. ReAct's experiments are conducted on models like \"\n",
            "             'PaLM and GPT-3, and all related code and prompts have been made '\n",
            "             'accessible for reproducibility. \\n'\n",
            "             '\\n'\n",
            "             'The ReAct approach not only aims to create more interpretable '\n",
            "             'and controllable models but also emphasizes ethical '\n",
            "             'considerations to mitigate the risks associated with interacting '\n",
            "             'with external environments.'}\n"
          ]
        }
      ],
      "source": [
        "pprint.pprint(\n",
        "    retrieval_augmented_qa_pipeline.run_pipeline(\n",
        "        \"Explain what is the React paper about?\"\n",
        "    )\n",
        ")"
      ]
    },
    {
      "cell_type": "code",
      "execution_count": null,
      "metadata": {},
      "outputs": [],
      "source": []
    }
  ],
  "metadata": {
    "colab": {
      "provenance": []
    },
    "kernelspec": {
      "display_name": "buildyourownlangchain",
      "language": "python",
      "name": "python3"
    },
    "language_info": {
      "codemirror_mode": {
        "name": "ipython",
        "version": 3
      },
      "file_extension": ".py",
      "mimetype": "text/x-python",
      "name": "python",
      "nbconvert_exporter": "python",
      "pygments_lexer": "ipython3",
      "version": "3.12.5"
    },
    "orig_nbformat": 4,
    "widgets": {
      "application/vnd.jupyter.widget-state+json": {
        "1ce393d9afcf427d9d352259c5d32678": {
          "model_module": "@jupyter-widgets/controls",
          "model_module_version": "1.5.0",
          "model_name": "FloatProgressModel",
          "state": {
            "_dom_classes": [],
            "_model_module": "@jupyter-widgets/controls",
            "_model_module_version": "1.5.0",
            "_model_name": "FloatProgressModel",
            "_view_count": null,
            "_view_module": "@jupyter-widgets/controls",
            "_view_module_version": "1.5.0",
            "_view_name": "ProgressView",
            "bar_style": "",
            "description": "",
            "description_tooltip": null,
            "layout": "IPY_MODEL_4e6efd99f7d346e485b002fb0fa85cc7",
            "max": 1,
            "min": 0,
            "orientation": "horizontal",
            "style": "IPY_MODEL_3dfb67c39958461da6071e4c19c3fa41",
            "value": 1
          }
        },
        "3a4ba348cb004f8ab7b2b1395539c81b": {
          "model_module": "@jupyter-widgets/controls",
          "model_module_version": "1.5.0",
          "model_name": "LabelModel",
          "state": {
            "_dom_classes": [],
            "_model_module": "@jupyter-widgets/controls",
            "_model_module_version": "1.5.0",
            "_model_name": "LabelModel",
            "_view_count": null,
            "_view_module": "@jupyter-widgets/controls",
            "_view_module_version": "1.5.0",
            "_view_name": "LabelView",
            "description": "",
            "description_tooltip": null,
            "layout": "IPY_MODEL_d2ea5009dd16442cb5d8a0ac468e50a8",
            "placeholder": "​",
            "style": "IPY_MODEL_5f00135fe1044051a50ee5e841cbb8e3",
            "value": "0.018 MB of 0.018 MB uploaded\r"
          }
        },
        "3dfb67c39958461da6071e4c19c3fa41": {
          "model_module": "@jupyter-widgets/controls",
          "model_module_version": "1.5.0",
          "model_name": "ProgressStyleModel",
          "state": {
            "_model_module": "@jupyter-widgets/controls",
            "_model_module_version": "1.5.0",
            "_model_name": "ProgressStyleModel",
            "_view_count": null,
            "_view_module": "@jupyter-widgets/base",
            "_view_module_version": "1.2.0",
            "_view_name": "StyleView",
            "bar_color": null,
            "description_width": ""
          }
        },
        "4e6efd99f7d346e485b002fb0fa85cc7": {
          "model_module": "@jupyter-widgets/base",
          "model_module_version": "1.2.0",
          "model_name": "LayoutModel",
          "state": {
            "_model_module": "@jupyter-widgets/base",
            "_model_module_version": "1.2.0",
            "_model_name": "LayoutModel",
            "_view_count": null,
            "_view_module": "@jupyter-widgets/base",
            "_view_module_version": "1.2.0",
            "_view_name": "LayoutView",
            "align_content": null,
            "align_items": null,
            "align_self": null,
            "border": null,
            "bottom": null,
            "display": null,
            "flex": null,
            "flex_flow": null,
            "grid_area": null,
            "grid_auto_columns": null,
            "grid_auto_flow": null,
            "grid_auto_rows": null,
            "grid_column": null,
            "grid_gap": null,
            "grid_row": null,
            "grid_template_areas": null,
            "grid_template_columns": null,
            "grid_template_rows": null,
            "height": null,
            "justify_content": null,
            "justify_items": null,
            "left": null,
            "margin": null,
            "max_height": null,
            "max_width": null,
            "min_height": null,
            "min_width": null,
            "object_fit": null,
            "object_position": null,
            "order": null,
            "overflow": null,
            "overflow_x": null,
            "overflow_y": null,
            "padding": null,
            "right": null,
            "top": null,
            "visibility": null,
            "width": null
          }
        },
        "56a8e24025594e5e9ff3b8581c344691": {
          "model_module": "@jupyter-widgets/base",
          "model_module_version": "1.2.0",
          "model_name": "LayoutModel",
          "state": {
            "_model_module": "@jupyter-widgets/base",
            "_model_module_version": "1.2.0",
            "_model_name": "LayoutModel",
            "_view_count": null,
            "_view_module": "@jupyter-widgets/base",
            "_view_module_version": "1.2.0",
            "_view_name": "LayoutView",
            "align_content": null,
            "align_items": null,
            "align_self": null,
            "border": null,
            "bottom": null,
            "display": null,
            "flex": null,
            "flex_flow": null,
            "grid_area": null,
            "grid_auto_columns": null,
            "grid_auto_flow": null,
            "grid_auto_rows": null,
            "grid_column": null,
            "grid_gap": null,
            "grid_row": null,
            "grid_template_areas": null,
            "grid_template_columns": null,
            "grid_template_rows": null,
            "height": null,
            "justify_content": null,
            "justify_items": null,
            "left": null,
            "margin": null,
            "max_height": null,
            "max_width": null,
            "min_height": null,
            "min_width": null,
            "object_fit": null,
            "object_position": null,
            "order": null,
            "overflow": null,
            "overflow_x": null,
            "overflow_y": null,
            "padding": null,
            "right": null,
            "top": null,
            "visibility": null,
            "width": null
          }
        },
        "5f00135fe1044051a50ee5e841cbb8e3": {
          "model_module": "@jupyter-widgets/controls",
          "model_module_version": "1.5.0",
          "model_name": "DescriptionStyleModel",
          "state": {
            "_model_module": "@jupyter-widgets/controls",
            "_model_module_version": "1.5.0",
            "_model_name": "DescriptionStyleModel",
            "_view_count": null,
            "_view_module": "@jupyter-widgets/base",
            "_view_module_version": "1.2.0",
            "_view_name": "StyleView",
            "description_width": ""
          }
        },
        "bb904e05ece143c79ecc4f20de482f45": {
          "model_module": "@jupyter-widgets/controls",
          "model_module_version": "1.5.0",
          "model_name": "VBoxModel",
          "state": {
            "_dom_classes": [],
            "_model_module": "@jupyter-widgets/controls",
            "_model_module_version": "1.5.0",
            "_model_name": "VBoxModel",
            "_view_count": null,
            "_view_module": "@jupyter-widgets/controls",
            "_view_module_version": "1.5.0",
            "_view_name": "VBoxView",
            "box_style": "",
            "children": [
              "IPY_MODEL_3a4ba348cb004f8ab7b2b1395539c81b",
              "IPY_MODEL_1ce393d9afcf427d9d352259c5d32678"
            ],
            "layout": "IPY_MODEL_56a8e24025594e5e9ff3b8581c344691"
          }
        },
        "d2ea5009dd16442cb5d8a0ac468e50a8": {
          "model_module": "@jupyter-widgets/base",
          "model_module_version": "1.2.0",
          "model_name": "LayoutModel",
          "state": {
            "_model_module": "@jupyter-widgets/base",
            "_model_module_version": "1.2.0",
            "_model_name": "LayoutModel",
            "_view_count": null,
            "_view_module": "@jupyter-widgets/base",
            "_view_module_version": "1.2.0",
            "_view_name": "LayoutView",
            "align_content": null,
            "align_items": null,
            "align_self": null,
            "border": null,
            "bottom": null,
            "display": null,
            "flex": null,
            "flex_flow": null,
            "grid_area": null,
            "grid_auto_columns": null,
            "grid_auto_flow": null,
            "grid_auto_rows": null,
            "grid_column": null,
            "grid_gap": null,
            "grid_row": null,
            "grid_template_areas": null,
            "grid_template_columns": null,
            "grid_template_rows": null,
            "height": null,
            "justify_content": null,
            "justify_items": null,
            "left": null,
            "margin": null,
            "max_height": null,
            "max_width": null,
            "min_height": null,
            "min_width": null,
            "object_fit": null,
            "object_position": null,
            "order": null,
            "overflow": null,
            "overflow_x": null,
            "overflow_y": null,
            "padding": null,
            "right": null,
            "top": null,
            "visibility": null,
            "width": null
          }
        }
      }
    }
  },
  "nbformat": 4,
  "nbformat_minor": 0
}
